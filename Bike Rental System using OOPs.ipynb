{
 "cells": [
  {
   "cell_type": "markdown",
   "id": "140b8182",
   "metadata": {},
   "source": [
    "## Bike Rental System"
   ]
  },
  {
   "cell_type": "code",
   "execution_count": 4,
   "id": "3f351084",
   "metadata": {},
   "outputs": [
    {
     "name": "stdout",
     "output_type": "stream",
     "text": [
      "\n",
      "1 Display Stokes\n",
      "2 Rent a Bike\n",
      "3. Exit\n",
      "            1\n",
      "Total Bikes 100\n",
      "\n",
      "1 Display Stokes\n",
      "2 Rent a Bike\n",
      "3. Exit\n",
      "            2\n",
      "Enter The Qty :---20\n",
      "Total Price 2000\n",
      "total Bikes in stock 80\n",
      "\n",
      "1 Display Stokes\n",
      "2 Rent a Bike\n",
      "3. Exit\n",
      "            3\n"
     ]
    }
   ],
   "source": [
    "class bikeshop:\n",
    "    def __init__(self,stock):\n",
    "        self.stock=stock\n",
    "        \n",
    "    def displayBike(self):\n",
    "        print(\"Total Bikes\", self.stock)\n",
    "        \n",
    "    def rentforBike(self,q):\n",
    "        if q<=0:\n",
    "            print(\"Enter the positive value : \")\n",
    "        elif q>self.stock:\n",
    "            print(\"enter the value\")\n",
    "        else:\n",
    "            print(\"Total Price\", q*100)\n",
    "            print(\"total Bikes in stock\", self.stock-q)\n",
    "            \n",
    "            \n",
    "while True:\n",
    "    obj=bikeshop(100)\n",
    "    uc=int(input('''\n",
    "1 Display Stokes\n",
    "2 Rent a Bike\n",
    "3. Exit\n",
    "            '''))\n",
    "    \n",
    "    if uc==1:\n",
    "        obj.displayBike()\n",
    "    elif uc==2:\n",
    "        n=int(input(\"Enter The Qty :---\"))\n",
    "        obj.rentforBike(n)\n",
    "    else:\n",
    "        break"
   ]
  },
  {
   "cell_type": "code",
   "execution_count": null,
   "id": "0edffd0d",
   "metadata": {},
   "outputs": [],
   "source": []
  }
 ],
 "metadata": {
  "kernelspec": {
   "display_name": "Python 3 (ipykernel)",
   "language": "python",
   "name": "python3"
  },
  "language_info": {
   "codemirror_mode": {
    "name": "ipython",
    "version": 3
   },
   "file_extension": ".py",
   "mimetype": "text/x-python",
   "name": "python",
   "nbconvert_exporter": "python",
   "pygments_lexer": "ipython3",
   "version": "3.9.7"
  }
 },
 "nbformat": 4,
 "nbformat_minor": 5
}
