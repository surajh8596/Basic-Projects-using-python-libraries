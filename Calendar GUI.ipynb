{
 "cells": [
  {
   "cell_type": "markdown",
   "id": "ac3cbb49",
   "metadata": {},
   "source": [
    "## Required Library"
   ]
  },
  {
   "cell_type": "code",
   "execution_count": 4,
   "id": "6a2adbda",
   "metadata": {},
   "outputs": [],
   "source": [
    "from tkinter import *\n",
    "import calendar"
   ]
  },
  {
   "cell_type": "markdown",
   "id": "b7bbad70",
   "metadata": {},
   "source": [
    "### Function That defines Calendar Year"
   ]
  },
  {
   "cell_type": "code",
   "execution_count": 47,
   "id": "c4f0721c",
   "metadata": {},
   "outputs": [],
   "source": [
    "def showCalender():\n",
    "    gui = Tk()\n",
    "    gui.config(background='white')\n",
    "    gui.title(\"Calender\")\n",
    "    gui.geometry(\"550x600\")\n",
    "    year = int(year_field.get())\n",
    "    gui_content= calendar.calendar(year)\n",
    "    calYear = Label(gui, text= gui_content, font= \"Consolas 10 bold\")\n",
    "    calYear.grid(row=6, column=1,padx=20)\n",
    "    gui.mainloop()"
   ]
  },
  {
   "cell_type": "markdown",
   "id": "94ab7bfc",
   "metadata": {},
   "source": [
    "### Main Driver Code"
   ]
  },
  {
   "cell_type": "code",
   "execution_count": 48,
   "id": "4285587e",
   "metadata": {},
   "outputs": [],
   "source": [
    "if __name__=='__main__':\n",
    "    new = Tk()\n",
    "    new.config(background='grey')\n",
    "    new.title(\"Calender\")\n",
    "    new.geometry(\"250x140\")\n",
    "    cal = Label(new, text=\"Calender\",bg='grey',font=(\"times\", 28, \"bold\"))\n",
    "    year = Label(new, text=\"Enter year\", bg='dark grey')\n",
    "    year_field=Entry(new)\n",
    "    button = Button(new, text='Show Calender',\n",
    "                    fg='Black',bg='Blue',command=showCalender)\n",
    "\n",
    "    #putting widgets in position\n",
    "    cal.grid(row=1, column=1)\n",
    "    year.grid(row=2, column=1)\n",
    "    year_field.grid(row=3, column=1)\n",
    "    button.grid(row=4, column=1)\n",
    "    new.mainloop()"
   ]
  },
  {
   "cell_type": "code",
   "execution_count": 18,
   "id": "28ee6575",
   "metadata": {},
   "outputs": [],
   "source": []
  },
  {
   "cell_type": "code",
   "execution_count": null,
   "id": "1ddceb8b",
   "metadata": {},
   "outputs": [],
   "source": []
  }
 ],
 "metadata": {
  "kernelspec": {
   "display_name": "Python 3 (ipykernel)",
   "language": "python",
   "name": "python3"
  },
  "language_info": {
   "codemirror_mode": {
    "name": "ipython",
    "version": 3
   },
   "file_extension": ".py",
   "mimetype": "text/x-python",
   "name": "python",
   "nbconvert_exporter": "python",
   "pygments_lexer": "ipython3",
   "version": "3.9.7"
  }
 },
 "nbformat": 4,
 "nbformat_minor": 5
}
