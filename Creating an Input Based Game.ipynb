{
 "cells": [
  {
   "cell_type": "markdown",
   "id": "dd25617e",
   "metadata": {},
   "source": [
    "### A robot moves in a plane starting from the origine point(0,0). the robot can move towards up, down, left and right with a given step. the trace of robot is shown as the following,\n",
    "    * UP 5\n",
    "    * DOWN 3\n",
    "    * LEFT 3\n",
    "    * RIGHT 2\n",
    "### the number after the directions are steps.\n",
    "### write a program to compute the distance from start position after a sequence of movemen. if the distance is float just print the nearest integer.\n",
    "### use the following distance calculation measure\n",
    "#### The Minkowski distance between two variabes X and Y is defined as\n",
    "###        (∑i=1n|Xi−Yi|p)1/p\n",
    "#### The case where p = 1 is equivalent to the Manhattan distance and the case where p = 2 is equivalent to the Euclidean distance."
   ]
  },
  {
   "cell_type": "code",
   "execution_count": 1,
   "id": "e9928ea7",
   "metadata": {},
   "outputs": [],
   "source": [
    "import math"
   ]
  },
  {
   "cell_type": "code",
   "execution_count": 2,
   "id": "c4aceba1",
   "metadata": {},
   "outputs": [],
   "source": [
    "start_pos=[0,0]\n",
    "end_pos=[0,0]"
   ]
  },
  {
   "cell_type": "code",
   "execution_count": 3,
   "id": "2a0364d5",
   "metadata": {},
   "outputs": [],
   "source": [
    "actions=[('UP',5),\n",
    "        ('DOWN', 3),\n",
    "        ('LEFT', 3),\n",
    "        ('RIGHT', 2)]"
   ]
  },
  {
   "cell_type": "code",
   "execution_count": 4,
   "id": "d779cfab",
   "metadata": {},
   "outputs": [],
   "source": [
    "for action in actions:\n",
    "    direction=action[0]\n",
    "    steps    =action[1]\n",
    "    \n",
    "    if direction   =='UP':    # moving y axis\n",
    "        end_pos[1]+=steps\n",
    "        \n",
    "    elif direction =='DOWN':  # moving y axis\n",
    "        end_pos[1]-=steps\n",
    "        \n",
    "    elif direction =='LEFT':  # movinng x axis\n",
    "        end_pos[0]-=steps\n",
    "        \n",
    "    elif direction =='RIGHT': # moving x axis\n",
    "        end_pos[0]+=steps\n",
    "        \n",
    "    else:\n",
    "        pass"
   ]
  },
  {
   "cell_type": "code",
   "execution_count": 5,
   "id": "b28868f7",
   "metadata": {},
   "outputs": [
    {
     "name": "stdout",
     "output_type": "stream",
     "text": [
      "[0, 0]\n",
      "[-1, 2]\n"
     ]
    }
   ],
   "source": [
    "print(start_pos)\n",
    "print(end_pos)"
   ]
  },
  {
   "cell_type": "code",
   "execution_count": 6,
   "id": "788c4076",
   "metadata": {},
   "outputs": [],
   "source": [
    "# calculate minkowsi distance\n",
    "\n",
    "def minkowsi_distance(end_pos, start_pos, root):\n",
    "    dist=((end_pos[0]-start_pos[0])**root+(end_pos[1]-start_pos[1]**root)**(1/root))\n",
    "    return dist"
   ]
  },
  {
   "cell_type": "code",
   "execution_count": 7,
   "id": "4adb06c0",
   "metadata": {},
   "outputs": [
    {
     "name": "stdout",
     "output_type": "stream",
     "text": [
      "Minkowsi distance with root = 1, is = 1.0\n",
      "Minkowsi distance with root = 2, is = 2.414213562373095\n",
      "Minkowsi distance with root = 3, is = 0.2599210498948732\n"
     ]
    }
   ],
   "source": [
    "## try with root 1,2,3\n",
    "root=1\n",
    "print('Minkowsi distance with root = {}, is = {}'.format(root, minkowsi_distance(end_pos, start_pos, root)))\n",
    "\n",
    "root=2\n",
    "print('Minkowsi distance with root = {}, is = {}'.format(root, minkowsi_distance(end_pos, start_pos, root)))\n",
    "\n",
    "root=3\n",
    "print('Minkowsi distance with root = {}, is = {}'.format(root, minkowsi_distance(end_pos, start_pos, root)))"
   ]
  },
  {
   "cell_type": "code",
   "execution_count": null,
   "id": "e1fab1c9",
   "metadata": {},
   "outputs": [],
   "source": []
  }
 ],
 "metadata": {
  "kernelspec": {
   "display_name": "Python 3 (ipykernel)",
   "language": "python",
   "name": "python3"
  },
  "language_info": {
   "codemirror_mode": {
    "name": "ipython",
    "version": 3
   },
   "file_extension": ".py",
   "mimetype": "text/x-python",
   "name": "python",
   "nbconvert_exporter": "python",
   "pygments_lexer": "ipython3",
   "version": "3.9.7"
  }
 },
 "nbformat": 4,
 "nbformat_minor": 5
}
