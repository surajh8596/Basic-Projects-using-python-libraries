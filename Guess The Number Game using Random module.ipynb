{
 "cells": [
  {
   "cell_type": "markdown",
   "id": "86a673e4",
   "metadata": {},
   "source": [
    "## Number guessing game using random module"
   ]
  },
  {
   "cell_type": "code",
   "execution_count": 1,
   "id": "f91a6c98",
   "metadata": {},
   "outputs": [],
   "source": [
    "import random"
   ]
  },
  {
   "cell_type": "code",
   "execution_count": 2,
   "id": "65b5a84b",
   "metadata": {},
   "outputs": [
    {
     "name": "stdout",
     "output_type": "stream",
     "text": [
      "Enter your guess 76\n",
      "Computer generated number is :  71\n",
      "Your guess number :  76\n",
      "Your guess is wrong! Better Luck Next Time\n"
     ]
    }
   ],
   "source": [
    "Comp_Number=random.randrange(1,101)\n",
    "User_Number=int(input(\"Enter your guess \"))\n",
    "print(\"Computer generated number is : \", Comp_Number)\n",
    "print(\"Your guess number : \", User_Number)\n",
    "if User_Number>Comp_Number:\n",
    "    print(\"Your guess is wrong! Better Luck Next Time\")\n",
    "elif User_Number==Comp_Number:\n",
    "    print(\"Wow Your guess is correct\")"
   ]
  },
  {
   "cell_type": "code",
   "execution_count": null,
   "id": "31d86e72",
   "metadata": {},
   "outputs": [],
   "source": []
  }
 ],
 "metadata": {
  "kernelspec": {
   "display_name": "Python 3 (ipykernel)",
   "language": "python",
   "name": "python3"
  },
  "language_info": {
   "codemirror_mode": {
    "name": "ipython",
    "version": 3
   },
   "file_extension": ".py",
   "mimetype": "text/x-python",
   "name": "python",
   "nbconvert_exporter": "python",
   "pygments_lexer": "ipython3",
   "version": "3.9.7"
  }
 },
 "nbformat": 4,
 "nbformat_minor": 5
}
