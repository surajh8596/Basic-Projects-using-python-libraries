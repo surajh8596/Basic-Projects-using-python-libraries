{
 "cells": [
  {
   "cell_type": "markdown",
   "id": "7eebcea4",
   "metadata": {},
   "source": [
    "### A website requires the users to input username and password to register.\n",
    "### Write the program to check the validity of password input by users, following are the criteria for checking the password,\n",
    "    * at least 1 letter between (a-z)\n",
    "    * at least 1 number between (0-9)\n",
    "    * at least 1 letter between (A-Z)\n",
    "    * at least 1 character from ($,#,@)\n",
    "    * minimum length of the password is 6\n",
    "    * maximum length of the password is 12"
   ]
  },
  {
   "cell_type": "code",
   "execution_count": 1,
   "id": "b7df6577",
   "metadata": {},
   "outputs": [],
   "source": [
    "import re"
   ]
  },
  {
   "cell_type": "code",
   "execution_count": 2,
   "id": "64f0f034",
   "metadata": {},
   "outputs": [
    {
     "name": "stdout",
     "output_type": "stream",
     "text": [
      "Suraj@8, Sush$8, sim48\n"
     ]
    }
   ],
   "source": [
    "items=[x for x in input().split(',')]"
   ]
  },
  {
   "cell_type": "code",
   "execution_count": 4,
   "id": "6f1e000e",
   "metadata": {},
   "outputs": [
    {
     "data": {
      "text/plain": [
       "['Suraj@8', ' Sush$8', ' sim48']"
      ]
     },
     "execution_count": 4,
     "metadata": {},
     "output_type": "execute_result"
    }
   ],
   "source": [
    "items"
   ]
  },
  {
   "cell_type": "code",
   "execution_count": 3,
   "id": "0ad4b090",
   "metadata": {},
   "outputs": [],
   "source": [
    "value=[]"
   ]
  },
  {
   "cell_type": "code",
   "execution_count": 6,
   "id": "140a2386",
   "metadata": {},
   "outputs": [
    {
     "name": "stdout",
     "output_type": "stream",
     "text": [
      "Suraj@8\n"
     ]
    }
   ],
   "source": [
    "for p in items:\n",
    "    if len(p)<6 or len(p)>12:\n",
    "        continue\n",
    "    else:\n",
    "        pass\n",
    "    if not re.search(\"[a-z]\",p):\n",
    "        continue\n",
    "    elif not re.search(\"[A-Z]\",p):\n",
    "        continue\n",
    "    elif not re.search(\"[0-9]\",p):\n",
    "        continue\n",
    "    elif not re.search(\"[$#@]\",p):\n",
    "        continue\n",
    "    elif re.search(\"\\s\",p):\n",
    "        continue\n",
    "    else:\n",
    "        pass\n",
    "    value.append(p)\n",
    "print(\",\".join(value))"
   ]
  },
  {
   "cell_type": "code",
   "execution_count": null,
   "id": "e7ed38fc",
   "metadata": {},
   "outputs": [],
   "source": []
  }
 ],
 "metadata": {
  "kernelspec": {
   "display_name": "Python 3 (ipykernel)",
   "language": "python",
   "name": "python3"
  },
  "language_info": {
   "codemirror_mode": {
    "name": "ipython",
    "version": 3
   },
   "file_extension": ".py",
   "mimetype": "text/x-python",
   "name": "python",
   "nbconvert_exporter": "python",
   "pygments_lexer": "ipython3",
   "version": "3.9.7"
  }
 },
 "nbformat": 4,
 "nbformat_minor": 5
}
