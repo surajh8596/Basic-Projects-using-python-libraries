{
 "cells": [
  {
   "cell_type": "code",
   "execution_count": 4,
   "id": "14cc1dd7",
   "metadata": {},
   "outputs": [
    {
     "name": "stdout",
     "output_type": "stream",
     "text": [
      "Requirement already satisfied: pyqrcode in c:\\users\\user\\anaconda3\\lib\\site-packages (1.2.1)\n",
      "Note: you may need to restart the kernel to use updated packages.\n"
     ]
    }
   ],
   "source": [
    "pip install pyqrcode"
   ]
  },
  {
   "cell_type": "code",
   "execution_count": 5,
   "id": "7b494901",
   "metadata": {},
   "outputs": [
    {
     "name": "stdout",
     "output_type": "stream",
     "text": [
      "Collecting pypng\n",
      "  Downloading pypng-0.0.21-py3-none-any.whl (48 kB)\n",
      "Installing collected packages: pypng\n",
      "Successfully installed pypng-0.0.21\n",
      "Note: you may need to restart the kernel to use updated packages.\n"
     ]
    }
   ],
   "source": [
    "pip install pypng"
   ]
  },
  {
   "cell_type": "code",
   "execution_count": 2,
   "id": "3fc40c16",
   "metadata": {},
   "outputs": [],
   "source": [
    "import pyqrcode\n",
    "import png\n",
    "from pyqrcode import QRCode"
   ]
  },
  {
   "cell_type": "code",
   "execution_count": 3,
   "id": "5c065a50",
   "metadata": {},
   "outputs": [],
   "source": [
    "s=\"https://www.youtube.com/\"\n",
    "url=pyqrcode.create(s)\n",
    "url.svg(\"myqr.svg\", scale=8)\n",
    "url.png(\"myqr.png\", scale=6)"
   ]
  },
  {
   "cell_type": "code",
   "execution_count": null,
   "id": "1d2cb3ec",
   "metadata": {},
   "outputs": [],
   "source": []
  }
 ],
 "metadata": {
  "kernelspec": {
   "display_name": "Python 3 (ipykernel)",
   "language": "python",
   "name": "python3"
  },
  "language_info": {
   "codemirror_mode": {
    "name": "ipython",
    "version": 3
   },
   "file_extension": ".py",
   "mimetype": "text/x-python",
   "name": "python",
   "nbconvert_exporter": "python",
   "pygments_lexer": "ipython3",
   "version": "3.9.7"
  }
 },
 "nbformat": 4,
 "nbformat_minor": 5
}
