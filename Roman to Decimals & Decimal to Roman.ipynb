{
 "cells": [
  {
   "cell_type": "markdown",
   "id": "d3a2432e",
   "metadata": {},
   "source": [
    "### Base Numbers\n",
    "#### I: 1\n",
    "#### V: 5\n",
    "#### X: 10\n",
    "#### C: 100\n",
    "#### D: 500\n",
    "#### M: 1000"
   ]
  },
  {
   "cell_type": "markdown",
   "id": "5eadf229",
   "metadata": {},
   "source": [
    "## Roman To Decimal"
   ]
  },
  {
   "cell_type": "code",
   "execution_count": 39,
   "id": "fae0e5f2",
   "metadata": {},
   "outputs": [],
   "source": [
    "tallies = {\n",
    "    'I': 1,\n",
    "    'V': 5,\n",
    "    'X': 10,\n",
    "    'L': 50,\n",
    "    'C': 100,\n",
    "    'D': 500,\n",
    "    'M': 1000}\n",
    "\n",
    "def RomanToDecimal(roman):\n",
    "    sum = 0\n",
    "    for i in range(len(roman) - 1):\n",
    "        left = roman[i]\n",
    "        right = roman[i + 1]\n",
    "        if tallies[left] < tallies[right]:\n",
    "            sum -= tallies[left]\n",
    "        else:\n",
    "            sum += tallies[left]\n",
    "    sum += tallies[roman[-1]]\n",
    "    return sum"
   ]
  },
  {
   "cell_type": "code",
   "execution_count": 49,
   "id": "0f35eaa6",
   "metadata": {},
   "outputs": [
    {
     "data": {
      "text/plain": [
       "2000"
      ]
     },
     "execution_count": 49,
     "metadata": {},
     "output_type": "execute_result"
    }
   ],
   "source": [
    "RomanToDecimal('MM')"
   ]
  },
  {
   "cell_type": "raw",
   "id": "34f5c296",
   "metadata": {},
   "source": []
  },
  {
   "cell_type": "markdown",
   "id": "cd0c1142",
   "metadata": {},
   "source": [
    "## Decimal to Roman"
   ]
  },
  {
   "cell_type": "code",
   "execution_count": 47,
   "id": "5a997411",
   "metadata": {},
   "outputs": [],
   "source": [
    "roman_dict = {1: 'I', 4: 'IV',  5: 'V', 9: 'IX', 10: 'X', 40: 'XL', 50: 'L', 90: 'XC', 100: 'C', 400: 'CD',\n",
    "              500: 'D', 900: 'CM', 1000: 'M'}\n",
    "\n",
    "divide_list = [1000, 100, 10, 1]\n",
    "\n",
    "def decimal_to_roman(decimal):\n",
    "    original_decimal = decimal\n",
    "    roman = \"\"\n",
    "    for divide_num in divide_list:\n",
    "        if decimal >= divide_num:\n",
    "            reminder = decimal//divide_num\n",
    "            if(reminder >= 1) and ((reminder*divide_num) in roman_dict):\n",
    "                roman += roman_dict[(reminder*divide_num)]\n",
    "                decimal -= reminder*divide_num\n",
    "            else:\n",
    "                roman += not_in_dict(reminder*divide_num, divide_num)\n",
    "                decimal -= (reminder*divide_num)\n",
    "    return str(original_decimal)+' = '+roman\n"
   ]
  },
  {
   "cell_type": "code",
   "execution_count": 52,
   "id": "664928ca",
   "metadata": {},
   "outputs": [
    {
     "data": {
      "text/plain": [
       "'1996 = MCMXCVI'"
      ]
     },
     "execution_count": 52,
     "metadata": {},
     "output_type": "execute_result"
    }
   ],
   "source": [
    "decimal_to_roman(1996)"
   ]
  },
  {
   "cell_type": "code",
   "execution_count": null,
   "id": "cf9ac20f",
   "metadata": {},
   "outputs": [],
   "source": []
  }
 ],
 "metadata": {
  "kernelspec": {
   "display_name": "Python 3 (ipykernel)",
   "language": "python",
   "name": "python3"
  },
  "language_info": {
   "codemirror_mode": {
    "name": "ipython",
    "version": 3
   },
   "file_extension": ".py",
   "mimetype": "text/x-python",
   "name": "python",
   "nbconvert_exporter": "python",
   "pygments_lexer": "ipython3",
   "version": "3.9.7"
  }
 },
 "nbformat": 4,
 "nbformat_minor": 5
}
