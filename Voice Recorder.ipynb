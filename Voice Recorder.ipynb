{
 "cells": [
  {
   "cell_type": "code",
   "execution_count": 6,
   "id": "b9e5b6a9",
   "metadata": {},
   "outputs": [
    {
     "name": "stdout",
     "output_type": "stream",
     "text": [
      "Enter the time duration in second: 12\n",
      "Recording voice.........🔊\n",
      "\n",
      "Finished recording\n"
     ]
    }
   ],
   "source": [
    "import sounddevice\n",
    "from scipy.io.wavfile import write\n",
    "fs=44100\n",
    "second=int(input(\"Enter the time duration in second: \" ))\n",
    "print(\"Recording voice.........🔊\\n\")\n",
    "record=sounddevice.rec(int(second*fs),samplerate=fs,channels=2)\n",
    "sounddevice.wait()\n",
    "write(\"voice_record.mp3\",fs,record)\n",
    "print(\"Finished recording\")"
   ]
  },
  {
   "cell_type": "code",
   "execution_count": null,
   "id": "85e02293",
   "metadata": {},
   "outputs": [],
   "source": []
  }
 ],
 "metadata": {
  "kernelspec": {
   "display_name": "python3.11",
   "language": "python",
   "name": "python3.11"
  },
  "language_info": {
   "codemirror_mode": {
    "name": "ipython",
    "version": 3
   },
   "file_extension": ".py",
   "mimetype": "text/x-python",
   "name": "python",
   "nbconvert_exporter": "python",
   "pygments_lexer": "ipython3",
   "version": "3.9.7"
  }
 },
 "nbformat": 4,
 "nbformat_minor": 5
}
